{
  "nbformat": 4,
  "nbformat_minor": 0,
  "metadata": {
    "colab": {
      "name": "insta_bot.ipynb",
      "provenance": [],
      "collapsed_sections": [],
      "authorship_tag": "ABX9TyNRLaXRlBq9YwOPNftdO5zs",
      "include_colab_link": true
    },
    "kernelspec": {
      "name": "python3",
      "display_name": "Python 3"
    }
  },
  "cells": [
    {
      "cell_type": "markdown",
      "metadata": {
        "id": "view-in-github",
        "colab_type": "text"
      },
      "source": [
        "<a href=\"https://colab.research.google.com/github/VasaviLagishetty/Insta_Bot/blob/master/insta_bot.ipynb\" target=\"_parent\"><img src=\"https://colab.research.google.com/assets/colab-badge.svg\" alt=\"Open In Colab\"/></a>"
      ]
    },
    {
      "cell_type": "code",
      "metadata": {
        "id": "9ulpOtKE7Jph",
        "colab_type": "code",
        "colab": {
          "base_uri": "https://localhost:8080/",
          "height": 204
        },
        "outputId": "60acb59a-abe2-43ad-fac5-18a2165d74f6"
      },
      "source": [
        "!apt install chromium-chromedriver\n",
        "!cp /usr/lib/chromium-browser/chromedriver /usr/bin\n",
        "!pip install selenium"
      ],
      "execution_count": null,
      "outputs": [
        {
          "output_type": "stream",
          "text": [
            "Reading package lists... Done\n",
            "Building dependency tree       \n",
            "Reading state information... Done\n",
            "chromium-chromedriver is already the newest version (83.0.4103.61-0ubuntu0.18.04.1).\n",
            "The following package was automatically installed and is no longer required:\n",
            "  libnvidia-common-440\n",
            "Use 'apt autoremove' to remove it.\n",
            "0 upgraded, 0 newly installed, 0 to remove and 35 not upgraded.\n",
            "cp: '/usr/lib/chromium-browser/chromedriver' and '/usr/bin/chromedriver' are the same file\n",
            "Requirement already satisfied: selenium in /usr/local/lib/python3.6/dist-packages (3.141.0)\n",
            "Requirement already satisfied: urllib3 in /usr/local/lib/python3.6/dist-packages (from selenium) (1.24.3)\n"
          ],
          "name": "stdout"
        }
      ]
    },
    {
      "cell_type": "code",
      "metadata": {
        "id": "6TTavAuXTA7u",
        "colab_type": "code",
        "colab": {}
      },
      "source": [
        "from selenium.webdriver.common.keys import Keys\n",
        "import time\n",
        "from selenium import webdriver\n",
        "from selenium.webdriver.common.action_chains import ActionChains\n",
        "from selenium.webdriver.support import expected_conditions as EC\n",
        "from selenium.webdriver.common.by import By\n",
        "from selenium.webdriver.support.wait import WebDriverWait\n",
        "from webdriver_manager.chrome import ChromeDriverManager"
      ],
      "execution_count": null,
      "outputs": []
    },
    {
      "cell_type": "code",
      "metadata": {
        "id": "-ZhcgN5uS66F",
        "colab_type": "code",
        "colab": {}
      },
      "source": [
        "class InstBot:\n",
        "\n",
        "    def __init__(self,username,password):\n",
        "        self.username = username\n",
        "        self.password = password\n",
        "\n",
        "        self.driver = webdriver.Chrome()\n",
        "\n",
        "        self.login()\n",
        "        #self.follow()\n",
        "        \n",
        "    def login(self):\n",
        "\n",
        "        self.driver.get('https://www.instagram.com')\n",
        "\n",
        "        wait = WebDriverWait(self.driver, 10)\n",
        "\n",
        "        second_page_flag = wait.until(EC.presence_of_element_located(\n",
        "            (By.CLASS_NAME, \"KPnG0\")))  # util login page appear\n",
        "\n",
        "        username_input = self.driver.find_element_by_name(\"username\")\n",
        "\n",
        "        password_input = self.driver.find_element_by_name('password')\n",
        "\n",
        "        ActionChains(self.driver)\\\n",
        "            .move_to_element(username_input).click()\\\n",
        "            .send_keys(self.username)\\\n",
        "            .move_to_element(password_input).click()\\\n",
        "            .send_keys(self.password)\\\n",
        "            .perform()\n",
        "\n",
        "        button = self.driver.find_element_by_class_name(\"L3NKy\") \n",
        "        \n",
        "        button.click()\n",
        "\n",
        "        time.sleep(2)\n",
        "\n",
        "    def find_button(self, button_text):\n",
        "\n",
        "        buttons = self.driver.find_element_by_xpath(\"//*[text()='{}']\".format(button_text))\n",
        "\n",
        "        return buttons\n",
        "\n",
        "    def follow(self):\n",
        "\n",
        "        self.driver.get('https://www.instagram.com/'+'lagishettyvasavi')\n",
        "\n",
        "        try:\n",
        "            follow_buttons = self.find_button('Follow')\n",
        "            follow_buttons.click()\n",
        "        except:\n",
        "            pass\n",
        "\n",
        "        time.sleep(5)\n",
        "\n",
        "    def like_save_comment(self,post_url,post_comment):\n",
        "\n",
        "        self.driver.get(post_url)\n",
        "\n",
        "        like_save_post = self.driver.find_elements_by_class_name(\"_8-yf5\") \n",
        "\n",
        "        \n",
        "        #print(like_save_post)\n",
        "\n",
        "        #for i in like_save_post:\n",
        "        #    print(i.get_attribute('aria-label'))\n",
        "\n",
        "        time.sleep(2)\n",
        "\n",
        "        like_save_post[1].click() #like_post\n",
        "\n",
        "        time.sleep(2)\n",
        "\n",
        "        like_save_post[5].click() #save_post\n",
        "\n",
        "        time.sleep(2)\n",
        "\n",
        "        if post_comment != None:\n",
        "\n",
        "            comment = self.driver.find_element_by_class_name(\"Ypffh\")\n",
        "\n",
        "            #print(comment)\n",
        "\n",
        "            ActionChains(self.driver)\\\n",
        "                .move_to_element(comment).click()\\\n",
        "                .send_keys(post_comment)\\\n",
        "                .perform()\n",
        "\n",
        "            time.sleep(2)\n",
        "\n",
        "            post_comment_button = self.find_button('Post')\n",
        "\n",
        "            post_comment_button.click()\n",
        "\n",
        "            time.sleep(5)\n",
        "        \n",
        "\n",
        "    def close(self):\n",
        "\n",
        "        self.driver.quit()\n"
      ],
      "execution_count": null,
      "outputs": []
    },
    {
      "cell_type": "code",
      "metadata": {
        "id": "9yqJ3I_mT-XZ",
        "colab_type": "code",
        "colab": {}
      },
      "source": [
        "if __name__ == '__main__':\n",
        "\n",
        "    bot = InstBot('USERNAME','PASSWORD')\n",
        "\n",
        "    posts = [('https://www.instagram.com/p/BVhd7bLlhhC/',None)]\n",
        "    \n",
        "    \n",
        "    for url_comment in posts:\n",
        "\n",
        "        bot.like_save_comment(url_comment[0],url_comment[1])\n",
        "\n",
        "    bot.close()"
      ],
      "execution_count": null,
      "outputs": []
    },
    {
      "cell_type": "code",
      "metadata": {
        "id": "ifRP65dZUCAA",
        "colab_type": "code",
        "colab": {}
      },
      "source": [
        ""
      ],
      "execution_count": null,
      "outputs": []
    }
  ]
}